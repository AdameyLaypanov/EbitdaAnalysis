{
 "cells": [
  {
   "cell_type": "code",
   "id": "initial_id",
   "metadata": {
    "ExecuteTime": {
     "end_time": "2024-09-05T12:06:38.265462Z",
     "start_time": "2024-09-05T12:06:37.425305Z"
    }
   },
   "source": [
    "import requests\n",
    "import pandas as pd\n",
    "import sys\n",
    "import random\n"
   ],
   "outputs": [],
   "execution_count": 1
  },
  {
   "cell_type": "code",
   "id": "62f57bfdc99843b9",
   "metadata": {
    "ExecuteTime": {
     "end_time": "2024-09-04T19:22:03.282591Z",
     "start_time": "2024-09-04T19:22:02.931532Z"
    }
   },
   "source": [
    "df = pd.read_csv('/Users/admlanno/Desktop/projects/EbitdaAnalysis/data/df_main.csv')"
   ],
   "outputs": [],
   "execution_count": 21
  },
  {
   "cell_type": "code",
   "id": "ab32914db7cdc271",
   "metadata": {
    "ExecuteTime": {
     "end_time": "2024-09-04T23:50:18.898203Z",
     "start_time": "2024-09-04T19:22:04.420283Z"
    }
   },
   "source": [
    "\n",
    "def safe_convert(value):\n",
    "    try:\n",
    "        return float(value) if value is not None else 0\n",
    "    except ValueError:\n",
    "        return 0\n",
    "\n",
    "def calculate_ebitda(inn):\n",
    "    session = requests.Session()\n",
    "\n",
    "    headers = {\n",
    "        \"Accept\": \"*/*\",\n",
    "        \"Accept-Encoding\": \"gzip, deflate, br, zstd\",\n",
    "        \"Accept-Language\": \"en-GB,en;q=0.9\",\n",
    "        \"Cache-Control\": \"no-cache\",\n",
    "        \"Connection\": \"keep-alive\",\n",
    "        \"Cookie\": \"disclaimed=true\",\n",
    "        \"Host\": \"bo.nalog.ru\",\n",
    "        \"Pragma\": \"no-cache\",\n",
    "        \"Sec-Fetch-Dest\": \"empty\",\n",
    "        \"Sec-Fetch-Mode\": \"cors\",\n",
    "        \"Sec-Fetch-Site\": \"same-origin\",\n",
    "        \"User-Agent\": \"Mozilla/5.0 (Windows NT 10.0; Win64; x64) AppleWebKit/537.36 (KHTML, like Gecko) Chrome/126.0.0.0 Safari/537.36 Edg/126.0.0.0\",\n",
    "        \"sec-ch-ua\": '\"Not/A)Brand\";v=\"8\", \"Chromium\";v=\"126\", \"Microsoft Edge\";v=\"126\"',\n",
    "        \"sec-ch-ua-mobile\": \"?0\",\n",
    "        \"sec-ch-ua-platform\": \"Windows\",\n",
    "    }\n",
    "\n",
    "    referers = [\n",
    "        \"https://bo.nalog.ru/\",\n",
    "        \"https://bo.nalog.ru/otherpage\",\n",
    "        \"https://bo.nalog.ru/anotherpage\"\n",
    "    ]\n",
    "\n",
    "    headers[\"Referer\"] = random.choice(referers)\n",
    "\n",
    "    try:\n",
    "        res = session.get(f\"https://bo.nalog.ru/advanced-search/organizations/search?query={inn}&page=0\", headers=headers).json()\n",
    "    except requests.exceptions.JSONDecodeError:\n",
    "        return None, \"Ошибка декодирования JSON - сервер вернул невалидный ответ\"\n",
    "    except requests.exceptions.RequestException as e:\n",
    "        return None, f\"Ошибка запроса: {e}\"\n",
    "\n",
    "    if not res.get('content'):\n",
    "        return None, \"Организация не найдена\"\n",
    "\n",
    "    org_id = res['content'][0]['id']\n",
    "\n",
    "    headers[\"Referer\"] = random.choice(referers)\n",
    "\n",
    "    try:\n",
    "        financial_data = session.get(f\"https://bo.nalog.ru/nbo/organizations/{org_id}/bfo\", headers=headers).json()\n",
    "    except requests.exceptions.JSONDecodeError:\n",
    "        return None, \"Ошибка декодирования JSON - сервер вернул невалидный ответ\"\n",
    "    except requests.exceptions.RequestException as e:\n",
    "        return None, f\"Ошибка запроса: {e}\"\n",
    "\n",
    "    ebitda_list = []\n",
    "\n",
    "    for year_data in financial_data:\n",
    "        financial_result = year_data.get('financialResult', {})\n",
    "        balance = year_data.get('correction', {}).get('balance', {})\n",
    "\n",
    "        profit = safe_convert(financial_result.get('current2400'))\n",
    "        taxes = safe_convert(financial_result.get('current2410'))\n",
    "        interest = safe_convert(financial_result.get('current2350'))\n",
    "        depreciation = safe_convert(balance.get('current1150'))\n",
    "\n",
    "        ebitda = profit + taxes + interest + depreciation\n",
    "        ebitda_list.append({\n",
    "            'year': year_data['period'],\n",
    "            'ebitda': ebitda\n",
    "        })\n",
    "\n",
    "    return ebitda_list, None\n",
    "\n",
    "# Инициализация переменных\n",
    "results = []\n",
    "total_inns = len(df)\n",
    "checked_inns = 0\n",
    "\n",
    "# Основной цикл обработки ИНН\n",
    "for index, row in df.iterrows():\n",
    "    inn = row['ИНН']\n",
    "    ebitda_data, error = calculate_ebitda(inn)\n",
    "\n",
    "    # Увеличиваем счетчик\n",
    "    checked_inns += 1\n",
    "\n",
    "    # Обновляем динамический счетчик на одной строке\n",
    "    sys.stdout.write(f\"\\rПроверено {checked_inns} из {total_inns} ИНН.\")\n",
    "    sys.stdout.flush()\n",
    "\n",
    "    if error:\n",
    "        # Пропускаем вывод ошибок, но можем записать их в лог, если нужно\n",
    "        continue\n",
    "\n",
    "    # Добавляем данные в результирующий список\n",
    "    for data in ebitda_data:\n",
    "        results.append({\n",
    "            'Наименование': row['Наименование / ФИО'],\n",
    "            'ИНН': inn,\n",
    "            'Год': data['year'],\n",
    "            'EBITDA': data['ebitda']\n",
    "        })\n",
    "        \n",
    "\n",
    "\n",
    "\n",
    "# Преобразуем результаты в DataFrame\n",
    "ebitda_df = pd.DataFrame(results)\n"
   ],
   "outputs": [
    {
     "name": "stdout",
     "output_type": "stream",
     "text": [
      "Проверено 142930 из 142930 ИНН."
     ]
    }
   ],
   "execution_count": 22
  },
  {
   "cell_type": "code",
   "id": "2491a33099573a54",
   "metadata": {
    "ExecuteTime": {
     "end_time": "2024-09-05T03:05:22.938499Z",
     "start_time": "2024-09-05T03:05:22.759888Z"
    }
   },
   "source": "ebitda_df = pd.DataFrame(results)",
   "outputs": [],
   "execution_count": 23
  },
  {
   "metadata": {
    "ExecuteTime": {
     "end_time": "2024-09-05T03:05:33.780260Z",
     "start_time": "2024-09-05T03:05:33.777132Z"
    }
   },
   "cell_type": "code",
   "source": "ebitda_df.shape",
   "id": "63780a9f3d388541",
   "outputs": [
    {
     "data": {
      "text/plain": [
       "(484972, 4)"
      ]
     },
     "execution_count": 24,
     "metadata": {},
     "output_type": "execute_result"
    }
   ],
   "execution_count": 24
  },
  {
   "metadata": {
    "ExecuteTime": {
     "end_time": "2024-09-05T06:12:02.258538Z",
     "start_time": "2024-09-05T06:12:01.714992Z"
    }
   },
   "cell_type": "code",
   "source": "ebitda_df.to_csv('EBITDA.csv', index=False)",
   "id": "a7622a32e423a8a6",
   "outputs": [],
   "execution_count": 28
  },
  {
   "metadata": {},
   "cell_type": "code",
   "outputs": [],
   "execution_count": null,
   "source": "",
   "id": "8eb2108094095f79"
  },
  {
   "metadata": {
    "ExecuteTime": {
     "end_time": "2024-09-09T07:36:05.928412Z",
     "start_time": "2024-09-09T07:36:05.924036Z"
    }
   },
   "cell_type": "code",
   "source": [
    "import numpy as np\n",
    "\n",
    "# Задаем матрицу\n",
    "matrix = np.array([[1/2, 1/2],\n",
    "                   [1/3, 2/3]])\n",
    "\n",
    "\n",
    "eigenvalues, eigenvectors = np.linalg.eig(matrix)\n",
    "\n",
    "eigenvalues, eigenvectors\n"
   ],
   "id": "456e72ef9a4802e6",
   "outputs": [
    {
     "data": {
      "text/plain": [
       "(array([0.16666667, 1.        ]),\n",
       " array([[-0.83205029, -0.70710678],\n",
       "        [ 0.5547002 , -0.70710678]]))"
      ]
     },
     "execution_count": 6,
     "metadata": {},
     "output_type": "execute_result"
    }
   ],
   "execution_count": 6
  }
 ],
 "metadata": {
  "kernelspec": {
   "display_name": "Python 3 (ipykernel)",
   "language": "python",
   "name": "python3"
  },
  "language_info": {
   "codemirror_mode": {
    "name": "ipython",
    "version": 3
   },
   "file_extension": ".py",
   "mimetype": "text/x-python",
   "name": "python",
   "nbconvert_exporter": "python",
   "pygments_lexer": "ipython3",
   "version": "3.12.4"
  }
 },
 "nbformat": 4,
 "nbformat_minor": 5
}
